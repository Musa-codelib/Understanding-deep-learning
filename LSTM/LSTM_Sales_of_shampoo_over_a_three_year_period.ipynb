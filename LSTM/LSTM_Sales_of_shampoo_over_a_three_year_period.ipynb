{
  "nbformat": 4,
  "nbformat_minor": 0,
  "metadata": {
    "colab": {
      "provenance": []
    },
    "kernelspec": {
      "name": "python3",
      "display_name": "Python 3"
    },
    "language_info": {
      "name": "python"
    }
  },
  "cells": [
    {
      "cell_type": "code",
      "execution_count": 14,
      "metadata": {
        "id": "tWpYdu96MJ1M"
      },
      "outputs": [],
      "source": [
        "# Import necessary libraries\n",
        "import pandas as pd\n",
        "import numpy as np\n",
        "from sklearn.preprocessing import MinMaxScaler\n",
        "\n"
      ]
    },
    {
      "cell_type": "code",
      "source": [
        "# Load your time series data\n",
        "data = pd.read_csv('/content/sales-of-shampoo-over-a-three-ye.csv')\n",
        "\n",
        "# Handle non-numeric values in the 'Sales of shampoo over a three year period' column\n",
        "data['Sales of shampoo over a three year period'] = pd.to_numeric(data['Sales of shampoo over a three year period'], errors='coerce')\n",
        "data = data.dropna()  # Drop rows with non-numeric values\n",
        "\n",
        "# Reshape the time series data\n",
        "time_series = data['Sales of shampoo over a three year period'].values.reshape(-1, 1)\n"
      ],
      "metadata": {
        "id": "COIAKGd-MZDR"
      },
      "execution_count": 20,
      "outputs": []
    },
    {
      "cell_type": "code",
      "source": [
        "# Normalize the data using Min-Max scaling\n",
        "scaler = MinMaxScaler(feature_range=(0, 1))\n",
        "scaled_data = scaler.fit_transform(time_series)\n",
        "\n",
        "# Prepare the data for LSTM\n",
        "def create_dataset(dataset, time_steps=1):\n",
        "    X, y = [], []\n",
        "    for i in range(len(dataset) - time_steps):\n",
        "        a = dataset[i:(i + time_steps), 0]\n",
        "        X.append(a)\n",
        "        y.append(dataset[i + time_steps, 0])\n",
        "    return np.array(X), np.array(y)\n",
        "\n",
        "time_steps = 10  # You can experiment with the number of time steps\n",
        "X, y = create_dataset(scaled_data, time_steps)\n",
        "\n",
        "# Reshape the input data for LSTM (samples, time steps, features)\n",
        "X = np.reshape(X, (X.shape[0], X.shape[1], 1))\n"
      ],
      "metadata": {
        "id": "fT9-4Fs8Merz"
      },
      "execution_count": 21,
      "outputs": []
    },
    {
      "cell_type": "code",
      "source": [
        "# Build the LSTM model\n",
        "model = Sequential()\n",
        "model.add(LSTM(units=50, return_sequences=True, input_shape=(X.shape[1], 1)))\n",
        "model.add(LSTM(units=50, return_sequences=False))\n",
        "model.add(Dense(units=1))\n",
        "model.compile(optimizer='adam', loss='mean_squared_error')\n",
        "\n",
        "# Train the model\n",
        "model.fit(X, y, epochs=50, batch_size=32)\n",
        "\n"
      ],
      "metadata": {
        "colab": {
          "base_uri": "https://localhost:8080/"
        },
        "id": "S9rqiTuJNWyq",
        "outputId": "37c8dab3-5229-4236-8c7e-2b760739db13"
      },
      "execution_count": 22,
      "outputs": [
        {
          "output_type": "stream",
          "name": "stdout",
          "text": [
            "Epoch 1/50\n",
            "1/1 [==============================] - 4s 4s/step - loss: 0.2672\n",
            "Epoch 2/50\n",
            "1/1 [==============================] - 0s 20ms/step - loss: 0.2389\n",
            "Epoch 3/50\n",
            "1/1 [==============================] - 0s 17ms/step - loss: 0.2126\n",
            "Epoch 4/50\n",
            "1/1 [==============================] - 0s 20ms/step - loss: 0.1881\n",
            "Epoch 5/50\n",
            "1/1 [==============================] - 0s 20ms/step - loss: 0.1649\n",
            "Epoch 6/50\n",
            "1/1 [==============================] - 0s 19ms/step - loss: 0.1428\n",
            "Epoch 7/50\n",
            "1/1 [==============================] - 0s 18ms/step - loss: 0.1214\n",
            "Epoch 8/50\n",
            "1/1 [==============================] - 0s 17ms/step - loss: 0.1008\n",
            "Epoch 9/50\n",
            "1/1 [==============================] - 0s 17ms/step - loss: 0.0812\n",
            "Epoch 10/50\n",
            "1/1 [==============================] - 0s 17ms/step - loss: 0.0630\n",
            "Epoch 11/50\n",
            "1/1 [==============================] - 0s 17ms/step - loss: 0.0469\n",
            "Epoch 12/50\n",
            "1/1 [==============================] - 0s 16ms/step - loss: 0.0339\n",
            "Epoch 13/50\n",
            "1/1 [==============================] - 0s 17ms/step - loss: 0.0254\n",
            "Epoch 14/50\n",
            "1/1 [==============================] - 0s 21ms/step - loss: 0.0228\n",
            "Epoch 15/50\n",
            "1/1 [==============================] - 0s 18ms/step - loss: 0.0266\n",
            "Epoch 16/50\n",
            "1/1 [==============================] - 0s 24ms/step - loss: 0.0346\n",
            "Epoch 17/50\n",
            "1/1 [==============================] - 0s 21ms/step - loss: 0.0416\n",
            "Epoch 18/50\n",
            "1/1 [==============================] - 0s 19ms/step - loss: 0.0437\n",
            "Epoch 19/50\n",
            "1/1 [==============================] - 0s 17ms/step - loss: 0.0409\n",
            "Epoch 20/50\n",
            "1/1 [==============================] - 0s 18ms/step - loss: 0.0354\n",
            "Epoch 21/50\n",
            "1/1 [==============================] - 0s 18ms/step - loss: 0.0295\n",
            "Epoch 22/50\n",
            "1/1 [==============================] - 0s 17ms/step - loss: 0.0247\n",
            "Epoch 23/50\n",
            "1/1 [==============================] - 0s 18ms/step - loss: 0.0218\n",
            "Epoch 24/50\n",
            "1/1 [==============================] - 0s 17ms/step - loss: 0.0206\n",
            "Epoch 25/50\n",
            "1/1 [==============================] - 0s 17ms/step - loss: 0.0207\n",
            "Epoch 26/50\n",
            "1/1 [==============================] - 0s 16ms/step - loss: 0.0217\n",
            "Epoch 27/50\n",
            "1/1 [==============================] - 0s 16ms/step - loss: 0.0229\n",
            "Epoch 28/50\n",
            "1/1 [==============================] - 0s 17ms/step - loss: 0.0240\n",
            "Epoch 29/50\n",
            "1/1 [==============================] - 0s 20ms/step - loss: 0.0247\n",
            "Epoch 30/50\n",
            "1/1 [==============================] - 0s 18ms/step - loss: 0.0250\n",
            "Epoch 31/50\n",
            "1/1 [==============================] - 0s 21ms/step - loss: 0.0247\n",
            "Epoch 32/50\n",
            "1/1 [==============================] - 0s 19ms/step - loss: 0.0240\n",
            "Epoch 33/50\n",
            "1/1 [==============================] - 0s 17ms/step - loss: 0.0229\n",
            "Epoch 34/50\n",
            "1/1 [==============================] - 0s 17ms/step - loss: 0.0215\n",
            "Epoch 35/50\n",
            "1/1 [==============================] - 0s 18ms/step - loss: 0.0202\n",
            "Epoch 36/50\n",
            "1/1 [==============================] - 0s 17ms/step - loss: 0.0190\n",
            "Epoch 37/50\n",
            "1/1 [==============================] - 0s 18ms/step - loss: 0.0181\n",
            "Epoch 38/50\n",
            "1/1 [==============================] - 0s 20ms/step - loss: 0.0176\n",
            "Epoch 39/50\n",
            "1/1 [==============================] - 0s 18ms/step - loss: 0.0175\n",
            "Epoch 40/50\n",
            "1/1 [==============================] - 0s 22ms/step - loss: 0.0177\n",
            "Epoch 41/50\n",
            "1/1 [==============================] - 0s 18ms/step - loss: 0.0180\n",
            "Epoch 42/50\n",
            "1/1 [==============================] - 0s 18ms/step - loss: 0.0183\n",
            "Epoch 43/50\n",
            "1/1 [==============================] - 0s 18ms/step - loss: 0.0183\n",
            "Epoch 44/50\n",
            "1/1 [==============================] - 0s 21ms/step - loss: 0.0181\n",
            "Epoch 45/50\n",
            "1/1 [==============================] - 0s 20ms/step - loss: 0.0176\n",
            "Epoch 46/50\n",
            "1/1 [==============================] - 0s 19ms/step - loss: 0.0170\n",
            "Epoch 47/50\n",
            "1/1 [==============================] - 0s 21ms/step - loss: 0.0164\n",
            "Epoch 48/50\n",
            "1/1 [==============================] - 0s 19ms/step - loss: 0.0160\n",
            "Epoch 49/50\n",
            "1/1 [==============================] - 0s 18ms/step - loss: 0.0158\n",
            "Epoch 50/50\n",
            "1/1 [==============================] - 0s 18ms/step - loss: 0.0157\n"
          ]
        },
        {
          "output_type": "execute_result",
          "data": {
            "text/plain": [
              "<keras.src.callbacks.History at 0x783c2ae58df0>"
            ]
          },
          "metadata": {},
          "execution_count": 22
        }
      ]
    },
    {
      "cell_type": "code",
      "source": [
        "# Make predictions on future values\n",
        "future_time_steps = 40  # You can adjust this based on how many future values you want to predict"
      ],
      "metadata": {
        "id": "Qoh7KINVOqfV"
      },
      "execution_count": 25,
      "outputs": []
    },
    {
      "cell_type": "code",
      "source": [
        "# Use the last 'time_steps' data points from the training data to predict future values\n",
        "input_data = scaled_data[-time_steps:]\n",
        "input_data = np.reshape(input_data, (1, time_steps, 1))\n",
        "\n",
        "future_predictions = []\n",
        "\n",
        "for i in range(future_time_steps):\n",
        "    predicted_value = model.predict(input_data)[0, 0]\n",
        "    future_predictions.append(predicted_value)\n",
        "    input_data = np.roll(input_data, -1)\n",
        "    input_data[0, -1, 0] = predicted_value\n",
        "\n",
        "# Inverse transform the predictions to the original scale\n",
        "future_predictions = np.array(future_predictions).reshape(-1, 1)\n",
        "future_predictions = scaler.inverse_transform(future_predictions)\n",
        "\n",
        "# Plot the original time series and the predicted future values\n",
        "plt.plot(time_series, label='Original Time Series')\n",
        "plt.plot(np.arange(len(time_series), len(time_series) + future_time_steps), future_predictions, label='Future Predictions')\n",
        "plt.legend()\n",
        "plt.show()"
      ],
      "metadata": {
        "colab": {
          "base_uri": "https://localhost:8080/",
          "height": 1000
        },
        "id": "kAgCHjgxPBus",
        "outputId": "233c5e11-2352-4e2b-ce1a-d5b4b9cbcfd5"
      },
      "execution_count": 26,
      "outputs": [
        {
          "output_type": "stream",
          "name": "stdout",
          "text": [
            "1/1 [==============================] - 0s 22ms/step\n",
            "1/1 [==============================] - 0s 27ms/step\n",
            "1/1 [==============================] - 0s 22ms/step\n",
            "1/1 [==============================] - 0s 25ms/step\n",
            "1/1 [==============================] - 0s 36ms/step\n",
            "1/1 [==============================] - 0s 34ms/step\n",
            "1/1 [==============================] - 0s 30ms/step\n",
            "1/1 [==============================] - 0s 28ms/step\n",
            "1/1 [==============================] - 0s 29ms/step\n",
            "1/1 [==============================] - 0s 29ms/step\n",
            "1/1 [==============================] - 0s 29ms/step\n",
            "1/1 [==============================] - 0s 31ms/step\n",
            "1/1 [==============================] - 0s 32ms/step\n",
            "1/1 [==============================] - 0s 48ms/step\n",
            "1/1 [==============================] - 0s 30ms/step\n",
            "1/1 [==============================] - 0s 45ms/step\n",
            "1/1 [==============================] - 0s 32ms/step\n",
            "1/1 [==============================] - 0s 33ms/step\n",
            "1/1 [==============================] - 0s 30ms/step\n",
            "1/1 [==============================] - 0s 30ms/step\n",
            "1/1 [==============================] - 0s 30ms/step\n",
            "1/1 [==============================] - 0s 37ms/step\n",
            "1/1 [==============================] - 0s 42ms/step\n",
            "1/1 [==============================] - 0s 31ms/step\n",
            "1/1 [==============================] - 0s 41ms/step\n",
            "1/1 [==============================] - 0s 31ms/step\n",
            "1/1 [==============================] - 0s 30ms/step\n",
            "1/1 [==============================] - 0s 34ms/step\n",
            "1/1 [==============================] - 0s 33ms/step\n",
            "1/1 [==============================] - 0s 31ms/step\n",
            "1/1 [==============================] - 0s 30ms/step\n",
            "1/1 [==============================] - 0s 30ms/step\n",
            "1/1 [==============================] - 0s 29ms/step\n",
            "1/1 [==============================] - 0s 29ms/step\n",
            "1/1 [==============================] - 0s 30ms/step\n",
            "1/1 [==============================] - 0s 29ms/step\n",
            "1/1 [==============================] - 0s 35ms/step\n",
            "1/1 [==============================] - 0s 30ms/step\n",
            "1/1 [==============================] - 0s 34ms/step\n",
            "1/1 [==============================] - 0s 30ms/step\n"
          ]
        },
        {
          "output_type": "display_data",
          "data": {
            "text/plain": [
              "<Figure size 640x480 with 1 Axes>"
            ],
            "image/png": "[encoded data removed]"
          },
          "metadata": {}
        }
      ]
    },
    {
      "cell_type": "code",
      "source": [],
      "metadata": {
        "id": "q_MRc48_PCdD"
      },
      "execution_count": null,
      "outputs": []
    }
  ]
}