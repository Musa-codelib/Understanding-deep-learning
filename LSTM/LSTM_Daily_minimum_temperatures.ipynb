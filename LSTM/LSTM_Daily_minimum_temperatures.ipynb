{
  "nbformat": 4,
  "nbformat_minor": 0,
  "metadata": {
    "colab": {
      "provenance": []
    },
    "kernelspec": {
      "name": "python3",
      "display_name": "Python 3"
    },
    "language_info": {
      "name": "python"
    }
  },
  "cells": [
    {
      "cell_type": "code",
      "execution_count": 6,
      "metadata": {
        "id": "tWpYdu96MJ1M"
      },
      "outputs": [],
      "source": [
        "# Import necessary libraries\n",
        "import pandas as pd\n",
        "import numpy as np\n",
        "from sklearn.preprocessing import MinMaxScaler\n",
        "\n"
      ]
    },
    {
      "cell_type": "code",
      "source": [
        "# Load your time series data\n",
        "data = pd.read_csv('/content/daily-minimum-temperatures-in-me.csv')\n",
        "\n",
        "# Handle non-numeric values in the 'Daily minimum temperatures' column\n",
        "data['Daily minimum temperatures'] = pd.to_numeric(data['Daily minimum temperatures'], errors='coerce')\n",
        "data = data.dropna()  # Drop rows with non-numeric values\n",
        "\n",
        "# Reshape the time series data\n",
        "time_series = data['Daily minimum temperatures'].values.reshape(-1, 1)\n"
      ],
      "metadata": {
        "id": "COIAKGd-MZDR"
      },
      "execution_count": 7,
      "outputs": []
    },
    {
      "cell_type": "code",
      "source": [
        "# Normalize the data using Min-Max scaling\n",
        "scaler = MinMaxScaler(feature_range=(0, 1))\n",
        "scaled_data = scaler.fit_transform(time_series)\n",
        "\n",
        "# Prepare the data for LSTM\n",
        "def create_dataset(dataset, time_steps=1):\n",
        "    X, y = [], []\n",
        "    for i in range(len(dataset) - time_steps):\n",
        "        a = dataset[i:(i + time_steps), 0]\n",
        "        X.append(a)\n",
        "        y.append(dataset[i + time_steps, 0])\n",
        "    return np.array(X), np.array(y)\n",
        "\n",
        "time_steps = 10  # You can experiment with the number of time steps\n",
        "X, y = create_dataset(scaled_data, time_steps)\n",
        "\n",
        "# Reshape the input data for LSTM (samples, time steps, features)\n",
        "X = np.reshape(X, (X.shape[0], X.shape[1], 1))\n"
      ],
      "metadata": {
        "id": "fT9-4Fs8Merz"
      },
      "execution_count": 8,
      "outputs": []
    },
    {
      "cell_type": "code",
      "source": [
        "# Build the LSTM model\n",
        "model = Sequential()\n",
        "model.add(LSTM(units=50, return_sequences=True, input_shape=(X.shape[1], 1)))\n",
        "model.add(LSTM(units=50, return_sequences=False))\n",
        "model.add(Dense(units=1))\n",
        "model.compile(optimizer='adam', loss='mean_squared_error')\n",
        "\n",
        "# Train the model\n",
        "model.fit(X, y, epochs=50, batch_size=32)\n",
        "\n"
      ],
      "metadata": {
        "colab": {
          "base_uri": "https://localhost:8080/"
        },
        "id": "S9rqiTuJNWyq",
        "outputId": "54a0200d-e287-4bbe-e8be-ed5470f6cacd"
      },
      "execution_count": 9,
      "outputs": [
        {
          "output_type": "stream",
          "name": "stdout",
          "text": [
            "Epoch 1/50\n",
            "114/114 [==============================] - 5s 11ms/step - loss: 0.0197\n",
            "Epoch 2/50\n",
            "114/114 [==============================] - 1s 11ms/step - loss: 0.0115\n",
            "Epoch 3/50\n",
            "114/114 [==============================] - 1s 11ms/step - loss: 0.0115\n",
            "Epoch 4/50\n",
            "114/114 [==============================] - 1s 12ms/step - loss: 0.0115\n",
            "Epoch 5/50\n",
            "114/114 [==============================] - 2s 17ms/step - loss: 0.0109\n",
            "Epoch 6/50\n",
            "114/114 [==============================] - 2s 17ms/step - loss: 0.0105\n",
            "Epoch 7/50\n",
            "114/114 [==============================] - 1s 11ms/step - loss: 0.0097\n",
            "Epoch 8/50\n",
            "114/114 [==============================] - 1s 11ms/step - loss: 0.0091\n",
            "Epoch 9/50\n",
            "114/114 [==============================] - 1s 11ms/step - loss: 0.0089\n",
            "Epoch 10/50\n",
            "114/114 [==============================] - 1s 11ms/step - loss: 0.0089\n",
            "Epoch 11/50\n",
            "114/114 [==============================] - 1s 11ms/step - loss: 0.0088\n",
            "Epoch 12/50\n",
            "114/114 [==============================] - 1s 11ms/step - loss: 0.0089\n",
            "Epoch 13/50\n",
            "114/114 [==============================] - 1s 11ms/step - loss: 0.0088\n",
            "Epoch 14/50\n",
            "114/114 [==============================] - 1s 11ms/step - loss: 0.0087\n",
            "Epoch 15/50\n",
            "114/114 [==============================] - 2s 17ms/step - loss: 0.0089\n",
            "Epoch 16/50\n",
            "114/114 [==============================] - 2s 17ms/step - loss: 0.0087\n",
            "Epoch 17/50\n",
            "114/114 [==============================] - 1s 12ms/step - loss: 0.0087\n",
            "Epoch 18/50\n",
            "114/114 [==============================] - 1s 11ms/step - loss: 0.0087\n",
            "Epoch 19/50\n",
            "114/114 [==============================] - 1s 11ms/step - loss: 0.0086\n",
            "Epoch 20/50\n",
            "114/114 [==============================] - 1s 11ms/step - loss: 0.0087\n",
            "Epoch 21/50\n",
            "114/114 [==============================] - 1s 11ms/step - loss: 0.0088\n",
            "Epoch 22/50\n",
            "114/114 [==============================] - 1s 11ms/step - loss: 0.0086\n",
            "Epoch 23/50\n",
            "114/114 [==============================] - 1s 11ms/step - loss: 0.0086\n",
            "Epoch 24/50\n",
            "114/114 [==============================] - 1s 11ms/step - loss: 0.0087\n",
            "Epoch 25/50\n",
            "114/114 [==============================] - 2s 16ms/step - loss: 0.0088\n",
            "Epoch 26/50\n",
            "114/114 [==============================] - 2s 17ms/step - loss: 0.0087\n",
            "Epoch 27/50\n",
            "114/114 [==============================] - 1s 13ms/step - loss: 0.0087\n",
            "Epoch 28/50\n",
            "114/114 [==============================] - 1s 11ms/step - loss: 0.0087\n",
            "Epoch 29/50\n",
            "114/114 [==============================] - 1s 11ms/step - loss: 0.0087\n",
            "Epoch 30/50\n",
            "114/114 [==============================] - 1s 11ms/step - loss: 0.0086\n",
            "Epoch 31/50\n",
            "114/114 [==============================] - 1s 11ms/step - loss: 0.0086\n",
            "Epoch 32/50\n",
            "114/114 [==============================] - 1s 11ms/step - loss: 0.0086\n",
            "Epoch 33/50\n",
            "114/114 [==============================] - 1s 11ms/step - loss: 0.0085\n",
            "Epoch 34/50\n",
            "114/114 [==============================] - 1s 11ms/step - loss: 0.0086\n",
            "Epoch 35/50\n",
            "114/114 [==============================] - 2s 15ms/step - loss: 0.0087\n",
            "Epoch 36/50\n",
            "114/114 [==============================] - 2s 17ms/step - loss: 0.0086\n",
            "Epoch 37/50\n",
            "114/114 [==============================] - 2s 14ms/step - loss: 0.0085\n",
            "Epoch 38/50\n",
            "114/114 [==============================] - 1s 11ms/step - loss: 0.0086\n",
            "Epoch 39/50\n",
            "114/114 [==============================] - 1s 10ms/step - loss: 0.0086\n",
            "Epoch 40/50\n",
            "114/114 [==============================] - 1s 12ms/step - loss: 0.0086\n",
            "Epoch 41/50\n",
            "114/114 [==============================] - 1s 11ms/step - loss: 0.0085\n",
            "Epoch 42/50\n",
            "114/114 [==============================] - 1s 11ms/step - loss: 0.0086\n",
            "Epoch 43/50\n",
            "114/114 [==============================] - 1s 11ms/step - loss: 0.0086\n",
            "Epoch 44/50\n",
            "114/114 [==============================] - 1s 11ms/step - loss: 0.0086\n",
            "Epoch 45/50\n",
            "114/114 [==============================] - 2s 14ms/step - loss: 0.0085\n",
            "Epoch 46/50\n",
            "114/114 [==============================] - 2s 17ms/step - loss: 0.0086\n",
            "Epoch 47/50\n",
            "114/114 [==============================] - 2s 16ms/step - loss: 0.0085\n",
            "Epoch 48/50\n",
            "114/114 [==============================] - 1s 11ms/step - loss: 0.0086\n",
            "Epoch 49/50\n",
            "114/114 [==============================] - 1s 11ms/step - loss: 0.0086\n",
            "Epoch 50/50\n",
            "114/114 [==============================] - 1s 11ms/step - loss: 0.0086\n"
          ]
        },
        {
          "output_type": "execute_result",
          "data": {
            "text/plain": [
              "<keras.src.callbacks.History at 0x783c2bf0d2a0>"
            ]
          },
          "metadata": {},
          "execution_count": 9
        }
      ]
    },
    {
      "cell_type": "code",
      "source": [
        "# Make predictions on future values\n",
        "future_time_steps = 100  # You can adjust this based on how many future values you want to predict"
      ],
      "metadata": {
        "id": "Qoh7KINVOqfV"
      },
      "execution_count": 12,
      "outputs": []
    },
    {
      "cell_type": "code",
      "source": [
        "# Use the last 'time_steps' data points from the training data to predict future values\n",
        "input_data = scaled_data[-time_steps:]\n",
        "input_data = np.reshape(input_data, (1, time_steps, 1))\n",
        "\n",
        "future_predictions = []\n",
        "\n",
        "for i in range(future_time_steps):\n",
        "    predicted_value = model.predict(input_data)[0, 0]\n",
        "    future_predictions.append(predicted_value)\n",
        "    input_data = np.roll(input_data, -1)\n",
        "    input_data[0, -1, 0] = predicted_value\n",
        "\n",
        "# Inverse transform the predictions to the original scale\n",
        "future_predictions = np.array(future_predictions).reshape(-1, 1)\n",
        "future_predictions = scaler.inverse_transform(future_predictions)\n",
        "\n",
        "# Plot the original time series and the predicted future values\n",
        "plt.plot(time_series, label='Original Time Series')\n",
        "plt.plot(np.arange(len(time_series), len(time_series) + future_time_steps), future_predictions, label='Future Predictions')\n",
        "plt.legend()\n",
        "plt.show()"
      ],
      "metadata": {
        "colab": {
          "base_uri": "https://localhost:8080/",
          "height": 1000
        },
        "id": "kAgCHjgxPBus",
        "outputId": "0a258936-960b-488c-8b64-04678a8d57ea"
      },
      "execution_count": 13,
      "outputs": [
        {
          "output_type": "stream",
          "name": "stdout",
          "text": [
            "1/1 [==============================] - 0s 20ms/step\n",
            "1/1 [==============================] - 0s 19ms/step\n",
            "1/1 [==============================] - 0s 23ms/step\n",
            "1/1 [==============================] - 0s 20ms/step\n",
            "1/1 [==============================] - 0s 19ms/step\n",
            "1/1 [==============================] - 0s 20ms/step\n",
            "1/1 [==============================] - 0s 27ms/step\n",
            "1/1 [==============================] - 0s 20ms/step\n",
            "1/1 [==============================] - 0s 19ms/step\n",
            "1/1 [==============================] - 0s 19ms/step\n",
            "1/1 [==============================] - 0s 19ms/step\n",
            "1/1 [==============================] - 0s 19ms/step\n",
            "1/1 [==============================] - 0s 21ms/step\n",
            "1/1 [==============================] - 0s 20ms/step\n",
            "1/1 [==============================] - 0s 29ms/step\n",
            "1/1 [==============================] - 0s 32ms/step\n",
            "1/1 [==============================] - 0s 30ms/step\n",
            "1/1 [==============================] - 0s 29ms/step\n",
            "1/1 [==============================] - 0s 28ms/step\n",
            "1/1 [==============================] - 0s 29ms/step\n",
            "1/1 [==============================] - 0s 30ms/step\n",
            "1/1 [==============================] - 0s 31ms/step\n",
            "1/1 [==============================] - 0s 30ms/step\n",
            "1/1 [==============================] - 0s 29ms/step\n",
            "1/1 [==============================] - 0s 29ms/step\n",
            "1/1 [==============================] - 0s 29ms/step\n",
            "1/1 [==============================] - 0s 33ms/step\n",
            "1/1 [==============================] - 0s 31ms/step\n",
            "1/1 [==============================] - 0s 30ms/step\n",
            "1/1 [==============================] - 0s 30ms/step\n",
            "1/1 [==============================] - 0s 29ms/step\n",
            "1/1 [==============================] - 0s 32ms/step\n",
            "1/1 [==============================] - 0s 29ms/step\n",
            "1/1 [==============================] - 0s 28ms/step\n",
            "1/1 [==============================] - 0s 28ms/step\n",
            "1/1 [==============================] - 0s 31ms/step\n",
            "1/1 [==============================] - 0s 33ms/step\n",
            "1/1 [==============================] - 0s 33ms/step\n",
            "1/1 [==============================] - 0s 32ms/step\n",
            "1/1 [==============================] - 0s 32ms/step\n",
            "1/1 [==============================] - 0s 41ms/step\n",
            "1/1 [==============================] - 0s 30ms/step\n",
            "1/1 [==============================] - 0s 31ms/step\n",
            "1/1 [==============================] - 0s 29ms/step\n",
            "1/1 [==============================] - 0s 28ms/step\n",
            "1/1 [==============================] - 0s 28ms/step\n",
            "1/1 [==============================] - 0s 33ms/step\n",
            "1/1 [==============================] - 0s 28ms/step\n",
            "1/1 [==============================] - 0s 28ms/step\n",
            "1/1 [==============================] - 0s 34ms/step\n",
            "1/1 [==============================] - 0s 28ms/step\n",
            "1/1 [==============================] - 0s 29ms/step\n",
            "1/1 [==============================] - 0s 29ms/step\n",
            "1/1 [==============================] - 0s 30ms/step\n",
            "1/1 [==============================] - 0s 32ms/step\n",
            "1/1 [==============================] - 0s 31ms/step\n",
            "1/1 [==============================] - 0s 28ms/step\n",
            "1/1 [==============================] - 0s 32ms/step\n",
            "1/1 [==============================] - 0s 28ms/step\n",
            "1/1 [==============================] - 0s 26ms/step\n",
            "1/1 [==============================] - 0s 22ms/step\n",
            "1/1 [==============================] - 0s 20ms/step\n",
            "1/1 [==============================] - 0s 19ms/step\n",
            "1/1 [==============================] - 0s 22ms/step\n",
            "1/1 [==============================] - 0s 20ms/step\n",
            "1/1 [==============================] - 0s 20ms/step\n",
            "1/1 [==============================] - 0s 21ms/step\n",
            "1/1 [==============================] - 0s 26ms/step\n",
            "1/1 [==============================] - 0s 21ms/step\n",
            "1/1 [==============================] - 0s 21ms/step\n",
            "1/1 [==============================] - 0s 22ms/step\n",
            "1/1 [==============================] - 0s 22ms/step\n",
            "1/1 [==============================] - 0s 19ms/step\n",
            "1/1 [==============================] - 0s 19ms/step\n",
            "1/1 [==============================] - 0s 19ms/step\n",
            "1/1 [==============================] - 0s 19ms/step\n",
            "1/1 [==============================] - 0s 21ms/step\n",
            "1/1 [==============================] - 0s 20ms/step\n",
            "1/1 [==============================] - 0s 20ms/step\n",
            "1/1 [==============================] - 0s 20ms/step\n",
            "1/1 [==============================] - 0s 20ms/step\n",
            "1/1 [==============================] - 0s 21ms/step\n",
            "1/1 [==============================] - 0s 21ms/step\n",
            "1/1 [==============================] - 0s 25ms/step\n",
            "1/1 [==============================] - 0s 21ms/step\n",
            "1/1 [==============================] - 0s 20ms/step\n",
            "1/1 [==============================] - 0s 22ms/step\n",
            "1/1 [==============================] - 0s 19ms/step\n",
            "1/1 [==============================] - 0s 20ms/step\n",
            "1/1 [==============================] - 0s 19ms/step\n",
            "1/1 [==============================] - 0s 20ms/step\n",
            "1/1 [==============================] - 0s 23ms/step\n",
            "1/1 [==============================] - 0s 21ms/step\n",
            "1/1 [==============================] - 0s 21ms/step\n",
            "1/1 [==============================] - 0s 20ms/step\n",
            "1/1 [==============================] - 0s 20ms/step\n",
            "1/1 [==============================] - 0s 21ms/step\n",
            "1/1 [==============================] - 0s 23ms/step\n",
            "1/1 [==============================] - 0s 20ms/step\n",
            "1/1 [==============================] - 0s 19ms/step\n"
          ]
        },
        {
          "output_type": "display_data",
          "data": {
            "text/plain": [
              "<Figure size 640x480 with 1 Axes>"
            ],
            "image/png": "[encoded data removed]"
          },
          "metadata": {}
        }
      ]
    },
    {
      "cell_type": "code",
      "source": [],
      "metadata": {
        "id": "q_MRc48_PCdD"
      },
      "execution_count": null,
      "outputs": []
    }
  ]
}